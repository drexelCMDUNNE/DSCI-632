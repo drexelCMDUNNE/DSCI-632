{
  "nbformat": 4,
  "nbformat_minor": 0,
  "metadata": {
    "colab": {
      "provenance": [],
      "toc_visible": true
    },
    "kernelspec": {
      "name": "python3",
      "display_name": "Python 3"
    },
    "language_info": {
      "name": "python"
    }
  },
  "cells": [
    {
      "cell_type": "markdown",
      "source": [
        "# DSCI 632 Final\n",
        "\n",
        "Your final is to use the dataset of your choice and the techniques in this class to do the following:\n",
        "\n",
        "1. Define and describe the dataset (10 points)\n",
        "1. Clean the data (10 points)\n",
        "1. Transform the clean data (10 points)\n",
        "1. Show your analysis of the data (10 points)"
      ],
      "metadata": {
        "id": "XNwBhCh5_fcM"
      }
    },
    {
      "cell_type": "markdown",
      "source": [
        "## Ground Rules\n",
        "\n",
        "1. Explain everything you're doing with pyspark in the code cells using [markdown](https://www.markdownguide.org/cheat-sheet) in text cells. Help the reader understand why you're doing each step so they can re-create it. Remember, this is an assignment to show how you analyze data to a potential employer. Don't use code comments to explain things.\n",
        "1. All of the sections are heading 1 in markdown, so use heading 2 to write your explainations, and heading 3 for any sub-headers. Check in your table of contents view in colab to make sure each point is listed before you turn this in.\n",
        "1. Don't hesisate to use multiple code/text cells in each section, as long as they're all labeled and described.\n",
        "1. Assume that the reader doesn't have access to the dataset on your local machine. Provide a link to the dataset you're using, or if able, include code to copy it from a public source. Don't rely on uploading from your local machine. (Importing from Google Drive is ok, as long as you provide the link to the data)\n",
        "1. If using GCP services, include screenshots from your console if there's a step that you aren't able to re-produce in code. Using the SDK is always preferred, but you won't lose points for using screenshots and explaining them.\n",
        "1. Import the data ONCE, then transform it to fit your analysis.\n",
        "1. Don't overwrite data, make new columns for new transformations. You can always drop columns later, but you can't get overwritten values back.\n",
        "1. Feel free to work with classmates, but all work submitted must be your own.\n",
        "1. Make sure to run disconnect the runtime and re-run the notebook at least once before turning in. If you are getting certain Java runtime errors, this might also help."
      ],
      "metadata": {
        "id": "aZL-vts6Fyji"
      }
    },
    {
      "cell_type": "markdown",
      "source": [
        "## Extra Credit Opportunities!\n",
        "\n",
        "- If you provide a link to this notebook on your public GitHub page instead of turning it in as an attachment, you will get 2 points extra credit.\n",
        "- Extra credit will be given for using the [Google Cloud SDK](https://cloud.google.com/sdk/) to create/use/destroy any cloud resources, up to 2 points per section, 8 points total.\n",
        " - Don't be afraid to look at the GCP example colab notebooks from the class notes, the GCP documentation, or GitHub for examples.\n",
        "- If this notebook is self-contained, you will get 5 points extra credit. (Requirements below)\n",
        " - The data is imported without relying on Google Drive, as the paths to data in Google Drive are user-specific. Downloads from public storage buckets/services are fine. (1 point)\n",
        " - It be run from start to finish without making any changes to paths, code, or variable names. (1 point)\n",
        " - All calls to external services, including GCP, are done programatically, no screenshots explaining how it worked in a browser console. (Using an API or SDK, 2 points)\n",
        " - All cloud resources are destroyed at the end of the notebook in a seperate section (Also via API or SDK, 1 point)"
      ],
      "metadata": {
        "id": "o92jEFUiQDLu"
      }
    },
    {
      "cell_type": "markdown",
      "source": [
        "---"
      ],
      "metadata": {
        "id": "te7o-qDYH5Pl"
      }
    },
    {
      "cell_type": "markdown",
      "source": [
        "# Section 1: Define and describe the dataset\n",
        "\n",
        "10 points\n",
        "\n",
        "Import the dataset, and describe why you'll be analyzing in it. You can summarize a few columns, show a more information on the relavent features, or but help the reader understand what the dataset is, what is in it, and why you picked it.\n",
        "\n",
        "Some questions that it might help you to answer:\n",
        "1. Why are you choosing this dataset?\n",
        "1. What variables will you use?\n",
        "1. What analysis(es) will you run?\n",
        "1. Do you have any hypotheses? What are they?\n",
        "\n",
        "### This section should include one or more of the following:\n",
        "- A histogram of several features relavent to your analysis\n",
        "- The schema of the dataset, with the datatypes assigned correctly\n",
        "- A text cell with explainations of the relavent features in [markdown](https://www.markdownguide.org/cheat-sheet)\n",
        "- Use Spark SQL or built-in methods to show a range of values\n",
        "- Most common words/n-grams found"
      ],
      "metadata": {
        "id": "rlYD5Go09y1Q"
      }
    },
    {
      "cell_type": "markdown",
      "source": [],
      "metadata": {
        "id": "W4u7PBHvaU6s"
      }
    },
    {
      "cell_type": "markdown",
      "source": [
        "### Download the notebook, install spark and set environment variables"
      ],
      "metadata": {
        "id": "NMrMaRkFYwom"
      }
    },
    {
      "cell_type": "markdown",
      "source": [
        "**Please note you will need a kaggle account to download the dataset.  You will be prompted ot enter your kaggle username and key, the key is available in the kaggle API token. If you do not have one downloaded you can get one from your kaggle account->settings->create new token.**"
      ],
      "metadata": {
        "id": "vi6Wv5j1Z0F3"
      }
    },
    {
      "cell_type": "code",
      "source": [
        "#download dataset from kaggle\n",
        "!pip install opendatasets\n",
        "import opendatasets as od\n",
        "\n",
        "od.download(\n",
        "    \"https://www.kaggle.com/datasets/evangower/premier-league-matches-19922022\")"
      ],
      "metadata": {
        "id": "Y_WqDI9E8OFv",
        "colab": {
          "base_uri": "https://localhost:8080/"
        },
        "outputId": "eac48cf6-3c9e-4e86-b848-06eec64bb315"
      },
      "execution_count": 1,
      "outputs": [
        {
          "output_type": "stream",
          "name": "stdout",
          "text": [
            "Collecting opendatasets\n",
            "  Downloading opendatasets-0.1.22-py3-none-any.whl (15 kB)\n",
            "Requirement already satisfied: tqdm in /usr/local/lib/python3.10/dist-packages (from opendatasets) (4.66.1)\n",
            "Requirement already satisfied: kaggle in /usr/local/lib/python3.10/dist-packages (from opendatasets) (1.5.16)\n",
            "Requirement already satisfied: click in /usr/local/lib/python3.10/dist-packages (from opendatasets) (8.1.7)\n",
            "Requirement already satisfied: six>=1.10 in /usr/local/lib/python3.10/dist-packages (from kaggle->opendatasets) (1.16.0)\n",
            "Requirement already satisfied: certifi in /usr/local/lib/python3.10/dist-packages (from kaggle->opendatasets) (2023.7.22)\n",
            "Requirement already satisfied: python-dateutil in /usr/local/lib/python3.10/dist-packages (from kaggle->opendatasets) (2.8.2)\n",
            "Requirement already satisfied: requests in /usr/local/lib/python3.10/dist-packages (from kaggle->opendatasets) (2.31.0)\n",
            "Requirement already satisfied: python-slugify in /usr/local/lib/python3.10/dist-packages (from kaggle->opendatasets) (8.0.1)\n",
            "Requirement already satisfied: urllib3 in /usr/local/lib/python3.10/dist-packages (from kaggle->opendatasets) (2.0.4)\n",
            "Requirement already satisfied: bleach in /usr/local/lib/python3.10/dist-packages (from kaggle->opendatasets) (6.0.0)\n",
            "Requirement already satisfied: webencodings in /usr/local/lib/python3.10/dist-packages (from bleach->kaggle->opendatasets) (0.5.1)\n",
            "Requirement already satisfied: text-unidecode>=1.3 in /usr/local/lib/python3.10/dist-packages (from python-slugify->kaggle->opendatasets) (1.3)\n",
            "Requirement already satisfied: charset-normalizer<4,>=2 in /usr/local/lib/python3.10/dist-packages (from requests->kaggle->opendatasets) (3.2.0)\n",
            "Requirement already satisfied: idna<4,>=2.5 in /usr/local/lib/python3.10/dist-packages (from requests->kaggle->opendatasets) (3.4)\n",
            "Installing collected packages: opendatasets\n",
            "Successfully installed opendatasets-0.1.22\n",
            "Please provide your Kaggle credentials to download this dataset. Learn more: http://bit.ly/kaggle-creds\n",
            "Your Kaggle username: caitlindunne\n",
            "Your Kaggle Key: ··········\n",
            "Downloading premier-league-matches-19922022.zip to ./premier-league-matches-19922022\n"
          ]
        },
        {
          "output_type": "stream",
          "name": "stderr",
          "text": [
            "100%|██████████| 79.9k/79.9k [00:00<00:00, 25.5MB/s]"
          ]
        },
        {
          "output_type": "stream",
          "name": "stdout",
          "text": [
            "\n"
          ]
        },
        {
          "output_type": "stream",
          "name": "stderr",
          "text": [
            "\n"
          ]
        }
      ]
    },
    {
      "cell_type": "code",
      "source": [
        "# Install Spark 3.0.1\n",
        "!apt-get install openjdk-8-jdk-headless -qq > /dev/null\n",
        "!wget -q https://archive.apache.org/dist/spark/spark-3.0.1/spark-3.0.1-bin-hadoop2.7.tgz\n",
        "!tar xf spark-3.0.1-bin-hadoop2.7.tgz"
      ],
      "metadata": {
        "id": "8NXNW5aiZR43"
      },
      "execution_count": 2,
      "outputs": []
    },
    {
      "cell_type": "code",
      "source": [
        "# Set Environment Variables\n",
        "import os\n",
        "os.environ[\"JAVA_HOME\"] = \"/usr/lib/jvm/java-8-openjdk-amd64\"\n",
        "os.environ[\"SPARK_HOME\"] = \"/content/spark-3.0.1-bin-hadoop2.7\""
      ],
      "metadata": {
        "id": "sRk655b_ZeIh"
      },
      "execution_count": 3,
      "outputs": []
    },
    {
      "cell_type": "code",
      "source": [
        "!python -m pip install --upgrade pyspark==2.4.0\n",
        "!python -m pip install -q findspark"
      ],
      "metadata": {
        "colab": {
          "base_uri": "https://localhost:8080/"
        },
        "id": "8QPkwbHiZimZ",
        "outputId": "bd8a9b6d-f91d-47d9-d49c-e9ecf0240a7d"
      },
      "execution_count": 4,
      "outputs": [
        {
          "output_type": "stream",
          "name": "stdout",
          "text": [
            "Collecting pyspark==2.4.0\n",
            "  Downloading pyspark-2.4.0.tar.gz (213.4 MB)\n",
            "\u001b[2K     \u001b[90m━━━━━━━━━━━━━━━━━━━━━━━━━━━━━━━━━━━━━━━\u001b[0m \u001b[32m213.4/213.4 MB\u001b[0m \u001b[31m4.6 MB/s\u001b[0m eta \u001b[36m0:00:00\u001b[0m\n",
            "\u001b[?25h  Preparing metadata (setup.py) ... \u001b[?25l\u001b[?25hdone\n",
            "Collecting py4j==0.10.7 (from pyspark==2.4.0)\n",
            "  Downloading py4j-0.10.7-py2.py3-none-any.whl (197 kB)\n",
            "\u001b[2K     \u001b[90m━━━━━━━━━━━━━━━━━━━━━━━━━━━━━━━━━━━━━━\u001b[0m \u001b[32m197.3/197.3 kB\u001b[0m \u001b[31m24.0 MB/s\u001b[0m eta \u001b[36m0:00:00\u001b[0m\n",
            "\u001b[?25hBuilding wheels for collected packages: pyspark\n",
            "  Building wheel for pyspark (setup.py) ... \u001b[?25l\u001b[?25hdone\n",
            "  Created wheel for pyspark: filename=pyspark-2.4.0-py2.py3-none-any.whl size=213793582 sha256=c7c413062a4002b3dd29623a484b0898dc0b3b235b476b514e20da038d4d1fbc\n",
            "  Stored in directory: /root/.cache/pip/wheels/f7/6f/a8/4d2c26233a51a570ccf015208651aeed4590ed3f935b70e7c6\n",
            "Successfully built pyspark\n",
            "Installing collected packages: py4j, pyspark\n",
            "  Attempting uninstall: py4j\n",
            "    Found existing installation: py4j 0.10.9.7\n",
            "    Uninstalling py4j-0.10.9.7:\n",
            "      Successfully uninstalled py4j-0.10.9.7\n",
            "Successfully installed py4j-0.10.7 pyspark-2.4.0\n"
          ]
        }
      ]
    },
    {
      "cell_type": "markdown",
      "source": [
        "### Create a new Spark Session"
      ],
      "metadata": {
        "id": "kHVvealRabR5"
      }
    },
    {
      "cell_type": "code",
      "source": [
        "import findspark\n",
        "findspark.init()\n",
        "from pyspark.sql import SparkSession\n",
        "APP_NAME = \"FINAL\""
      ],
      "metadata": {
        "id": "P41AMddGahR6"
      },
      "execution_count": 5,
      "outputs": []
    },
    {
      "cell_type": "code",
      "source": [
        "spark = SparkSession.builder.appName(APP_NAME).getOrCreate()\n",
        "spark"
      ],
      "metadata": {
        "colab": {
          "base_uri": "https://localhost:8080/",
          "height": 219
        },
        "id": "RPeRuBxAapeY",
        "outputId": "fab202cd-a29a-472e-b27b-09b5e9506618"
      },
      "execution_count": 6,
      "outputs": [
        {
          "output_type": "execute_result",
          "data": {
            "text/plain": [
              "<pyspark.sql.session.SparkSession at 0x7dda2c5b0b80>"
            ],
            "text/html": [
              "\n",
              "            <div>\n",
              "                <p><b>SparkSession - in-memory</b></p>\n",
              "                \n",
              "        <div>\n",
              "            <p><b>SparkContext</b></p>\n",
              "\n",
              "            <p><a href=\"http://e5ba99980732:4040\">Spark UI</a></p>\n",
              "\n",
              "            <dl>\n",
              "              <dt>Version</dt>\n",
              "                <dd><code>v3.0.1</code></dd>\n",
              "              <dt>Master</dt>\n",
              "                <dd><code>local[*]</code></dd>\n",
              "              <dt>AppName</dt>\n",
              "                <dd><code>FINAL</code></dd>\n",
              "            </dl>\n",
              "        </div>\n",
              "        \n",
              "            </div>\n",
              "        "
            ]
          },
          "metadata": {},
          "execution_count": 6
        }
      ]
    },
    {
      "cell_type": "markdown",
      "source": [
        "### Load dataset into dataframe"
      ],
      "metadata": {
        "id": "D-QwWx5Wazhs"
      }
    },
    {
      "cell_type": "markdown",
      "source": [
        "**We will be using this dataset to create a prediction model for Premier League games, the features we will use are points gained in previous meetings of the two teams, the goal differentials (goals scored-goals scored against) from the previous meetings, and home field advantage**"
      ],
      "metadata": {
        "id": "epe9fJy_b6pq"
      }
    },
    {
      "cell_type": "code",
      "source": [
        "location = './premier-league-matches-19922022/premier-league-matches.csv'\n",
        "df = spark.read.format('csv').option('header', 'true').option('inferSchema', 'true').load(location)\n",
        "df.show(truncate=False)\n",
        "df.printSchema"
      ],
      "metadata": {
        "colab": {
          "base_uri": "https://localhost:8080/"
        },
        "id": "8PM4QMTsa7b4",
        "outputId": "a750fa50-a91c-45e2-a397-6f1afe5c194a"
      },
      "execution_count": 7,
      "outputs": [
        {
          "output_type": "stream",
          "name": "stdout",
          "text": [
            "+---------------+---+----------+---------------+---------+---------+---------------+---+\n",
            "|Season_End_Year|Wk |Date      |Home           |HomeGoals|AwayGoals|Away           |FTR|\n",
            "+---------------+---+----------+---------------+---------+---------+---------------+---+\n",
            "|1993           |1  |1992-08-15|Coventry City  |2        |1        |Middlesbrough  |H  |\n",
            "|1993           |1  |1992-08-15|Leeds United   |2        |1        |Wimbledon      |H  |\n",
            "|1993           |1  |1992-08-15|Sheffield Utd  |2        |1        |Manchester Utd |H  |\n",
            "|1993           |1  |1992-08-15|Crystal Palace |3        |3        |Blackburn      |D  |\n",
            "|1993           |1  |1992-08-15|Arsenal        |2        |4        |Norwich City   |A  |\n",
            "|1993           |1  |1992-08-15|Ipswich Town   |1        |1        |Aston Villa    |D  |\n",
            "|1993           |1  |1992-08-15|Everton        |1        |1        |Sheffield Weds |D  |\n",
            "|1993           |1  |1992-08-15|Southampton    |0        |0        |Tottenham      |D  |\n",
            "|1993           |1  |1992-08-15|Chelsea        |1        |1        |Oldham Athletic|D  |\n",
            "|1993           |1  |1992-08-16|Nott'ham Forest|1        |0        |Liverpool      |H  |\n",
            "|1993           |1  |1992-08-17|Manchester City|1        |1        |QPR            |D  |\n",
            "|1993           |2  |1992-08-18|Blackburn      |1        |0        |Arsenal        |H  |\n",
            "|1993           |2  |1992-08-18|Wimbledon      |0        |1        |Ipswich Town   |A  |\n",
            "|1993           |2  |1992-08-19|Tottenham      |0        |2        |Coventry City  |A  |\n",
            "|1993           |2  |1992-08-19|Liverpool      |2        |1        |Sheffield Utd  |H  |\n",
            "|1993           |2  |1992-08-19|Aston Villa    |1        |1        |Leeds United   |D  |\n",
            "|1993           |2  |1992-08-19|Oldham Athletic|1        |1        |Crystal Palace |D  |\n",
            "|1993           |2  |1992-08-19|Middlesbrough  |2        |0        |Manchester City|H  |\n",
            "|1993           |2  |1992-08-19|Norwich City   |2        |1        |Chelsea        |H  |\n",
            "|1993           |2  |1992-08-19|QPR            |3        |1        |Southampton    |H  |\n",
            "+---------------+---+----------+---------------+---------+---------+---------------+---+\n",
            "only showing top 20 rows\n",
            "\n"
          ]
        },
        {
          "output_type": "execute_result",
          "data": {
            "text/plain": [
              "<bound method DataFrame.printSchema of DataFrame[Season_End_Year: int, Wk: int, Date: string, Home: string, HomeGoals: int, AwayGoals: int, Away: string, FTR: string]>"
            ]
          },
          "metadata": {},
          "execution_count": 7
        }
      ]
    },
    {
      "cell_type": "markdown",
      "source": [
        "**Initial analysis shows us that home field advantage will be an important feature**"
      ],
      "metadata": {
        "id": "oA-xopARhYTv"
      }
    },
    {
      "cell_type": "code",
      "source": [
        "import matplotlib.pyplot as plt\n",
        "\n",
        "ftr_counts = df.groupBy(\"FTR\").count()\n",
        "ftr_values = ftr_counts.select(\"FTR\").rdd.flatMap(lambda x: x).collect()\n",
        "ftr_counts = ftr_counts.select(\"count\").rdd.flatMap(lambda x: x).collect()\n",
        "\n",
        "plt.bar(ftr_values, ftr_counts)\n",
        "plt.xlabel(\"Full-Time Result (FTR)\")\n",
        "plt.ylabel(\"Frequency\")\n",
        "plt.title(\"Histogram of Full-Time Result\")\n",
        "plt.show()"
      ],
      "metadata": {
        "colab": {
          "base_uri": "https://localhost:8080/",
          "height": 472
        },
        "id": "14KSi7nAgMHG",
        "outputId": "0729b5f0-ce5c-4866-c68b-70b740c4ba33"
      },
      "execution_count": 8,
      "outputs": [
        {
          "output_type": "display_data",
          "data": {
            "text/plain": [
              "<Figure size 640x480 with 1 Axes>"
            ],
            "image/png": "[encoded data removed]"
          },
          "metadata": {}
        }
      ]
    },
    {
      "cell_type": "markdown",
      "source": [
        "# Section 2: Clean the data\n",
        "\n",
        "10 points\n",
        "\n",
        "Not every dataset is going to be ready to use right away. Take steps to fix incorrect inputs, remove null values, and assign datatypes that fit each feature.\n",
        "\n",
        "### This section should include one or more of the following:\n",
        "- A count of rows before and after dropping data with null or incorrect values, including an explaination of why removing the rows was necessary in [markdown](https://www.markdownguide.org/cheat-sheet).\n",
        "- Renaming a column, adding a new one, or casting an existing one as a different datatype.\n",
        "- Remove punctuation marks, symbols, etc from the data, and convert all upper-case lettering to lower-case.\n",
        "- Remove or fix rows that have bad values/data."
      ],
      "metadata": {
        "id": "PJf7Kn_E-nsi"
      }
    },
    {
      "cell_type": "markdown",
      "source": [
        "## Check for missing elements and drop un-needed columns"
      ],
      "metadata": {
        "id": "L5MiROdFt9J6"
      }
    },
    {
      "cell_type": "markdown",
      "source": [
        "**There are no missing elements in the dataset.**"
      ],
      "metadata": {
        "id": "oxWftaxikp0v"
      }
    },
    {
      "cell_type": "code",
      "source": [
        "print(df.count())\n",
        "df = df.dropna()\n",
        "print(df.count())"
      ],
      "metadata": {
        "id": "AXLF1DHU8OuX",
        "colab": {
          "base_uri": "https://localhost:8080/"
        },
        "outputId": "4d4f133a-57f4-42b4-f024-9985395109b3"
      },
      "execution_count": 9,
      "outputs": [
        {
          "output_type": "stream",
          "name": "stdout",
          "text": [
            "12026\n",
            "12026\n"
          ]
        }
      ]
    },
    {
      "cell_type": "markdown",
      "source": [
        "**The week and date columns are not important for our analysis so we can drop them, and we are joining a dataset of season standings but that data is only from the season ending 2001 on**"
      ],
      "metadata": {
        "id": "x4MS11PkmcMp"
      }
    },
    {
      "cell_type": "code",
      "source": [
        "from pyspark.sql.functions import udf\n",
        "from pyspark.sql.types import StringType\n",
        "from pyspark.sql.functions import col, when\n",
        "\n",
        "df = df.drop('Wk','Date')\n",
        "df = df.filter(df[\"Season_End_Year\"] >= 2002)\n",
        "df.show(truncate=False)"
      ],
      "metadata": {
        "colab": {
          "base_uri": "https://localhost:8080/"
        },
        "id": "Rcy5GXjRlc64",
        "outputId": "da751501-1c0a-4ed2-810c-0c9388ef97c6"
      },
      "execution_count": 10,
      "outputs": [
        {
          "output_type": "stream",
          "name": "stdout",
          "text": [
            "+---------------+--------------+---------+---------+--------------+---+\n",
            "|Season_End_Year|Home          |HomeGoals|AwayGoals|Away          |FTR|\n",
            "+---------------+--------------+---------+---------+--------------+---+\n",
            "|2002           |Middlesbrough |0        |4        |Arsenal       |A  |\n",
            "|2002           |Liverpool     |2        |1        |West Ham      |H  |\n",
            "|2002           |Charlton Ath  |1        |2        |Everton       |A  |\n",
            "|2002           |Leicester City|0        |5        |Bolton        |A  |\n",
            "|2002           |Leeds United  |2        |0        |Southampton   |H  |\n",
            "|2002           |Sunderland    |1        |0        |Ipswich Town  |H  |\n",
            "|2002           |Derby County  |2        |1        |Blackburn     |H  |\n",
            "|2002           |Tottenham     |0        |0        |Aston Villa   |D  |\n",
            "|2002           |Manchester Utd|3        |2        |Fulham        |H  |\n",
            "|2002           |Chelsea       |1        |1        |Newcastle Utd |D  |\n",
            "|2002           |Everton       |1        |1        |Tottenham     |D  |\n",
            "|2002           |Bolton        |1        |0        |Middlesbrough |H  |\n",
            "|2002           |Arsenal       |1        |2        |Leeds United  |A  |\n",
            "|2002           |Ipswich Town  |3        |1        |Derby County  |H  |\n",
            "|2002           |Fulham        |2        |0        |Sunderland    |H  |\n",
            "|2002           |Blackburn     |2        |2        |Manchester Utd|D  |\n",
            "|2002           |Ipswich Town  |0        |1        |Charlton Ath  |A  |\n",
            "|2002           |Blackburn     |2        |1        |Tottenham     |H  |\n",
            "|2002           |West Ham      |0        |0        |Leeds United  |D  |\n",
            "|2002           |Fulham        |0        |0        |Derby County  |D  |\n",
            "+---------------+--------------+---------+---------+--------------+---+\n",
            "only showing top 20 rows\n",
            "\n"
          ]
        }
      ]
    },
    {
      "cell_type": "markdown",
      "source": [
        "# Section 3: Transform the clean data\n",
        "\n",
        "10 points\n",
        "\n",
        "Once you have clean data, start to prepare it to fit your analysis tools. This might mean using custom code to normalize certain values, joining supplemental datasets, and/or preparing it for machine learning.\n",
        "\n",
        "### This section should include one or more of the following:\n",
        "- Write a UDF to perform a function, then use it to add a new column to your data. Explain why in [markdown](https://www.markdownguide.org/cheat-sheet)\n",
        "- Join an outside data source. (It can be one you've prepared alongside the primary source you're using, as long as you link it)\n",
        "- Split the data into train/test sets\n",
        "- Create vectors for relavent features\n",
        "- One-hot encode catagorical variables"
      ],
      "metadata": {
        "id": "7vn1ZLLh8WhW"
      }
    },
    {
      "cell_type": "markdown",
      "source": [
        "**The UDF here is just to make the full time result more desciptive to check our model later**"
      ],
      "metadata": {
        "id": "eeEBd6uJTcJX"
      }
    },
    {
      "cell_type": "code",
      "source": [
        "ftr_types = {'A': 'AwayWin','H': 'HomeWin','D': 'Draw'}\n",
        "broadcast = spark.sparkContext.broadcast(ftr_types)\n",
        "def get_ftr(ftr):\n",
        "  mapping = broadcast.value\n",
        "  return mapping.get(ftr)\n",
        "ftr_udf = udf(get_ftr, StringType())\n",
        "new_df = df.withColumn(\"Full Time Result\", ftr_udf(col(\"FTR\")))\n",
        "new_df = new_df.drop('FTR')\n",
        "new_df.show(truncate=False)"
      ],
      "metadata": {
        "id": "buHJ1SEJHvMK",
        "colab": {
          "base_uri": "https://localhost:8080/"
        },
        "outputId": "1e316d05-f1a3-4f54-a040-77d919572505"
      },
      "execution_count": 11,
      "outputs": [
        {
          "output_type": "stream",
          "name": "stdout",
          "text": [
            "+---------------+--------------+---------+---------+--------------+----------------+\n",
            "|Season_End_Year|Home          |HomeGoals|AwayGoals|Away          |Full Time Result|\n",
            "+---------------+--------------+---------+---------+--------------+----------------+\n",
            "|2002           |Middlesbrough |0        |4        |Arsenal       |AwayWin         |\n",
            "|2002           |Liverpool     |2        |1        |West Ham      |HomeWin         |\n",
            "|2002           |Charlton Ath  |1        |2        |Everton       |AwayWin         |\n",
            "|2002           |Leicester City|0        |5        |Bolton        |AwayWin         |\n",
            "|2002           |Leeds United  |2        |0        |Southampton   |HomeWin         |\n",
            "|2002           |Sunderland    |1        |0        |Ipswich Town  |HomeWin         |\n",
            "|2002           |Derby County  |2        |1        |Blackburn     |HomeWin         |\n",
            "|2002           |Tottenham     |0        |0        |Aston Villa   |Draw            |\n",
            "|2002           |Manchester Utd|3        |2        |Fulham        |HomeWin         |\n",
            "|2002           |Chelsea       |1        |1        |Newcastle Utd |Draw            |\n",
            "|2002           |Everton       |1        |1        |Tottenham     |Draw            |\n",
            "|2002           |Bolton        |1        |0        |Middlesbrough |HomeWin         |\n",
            "|2002           |Arsenal       |1        |2        |Leeds United  |AwayWin         |\n",
            "|2002           |Ipswich Town  |3        |1        |Derby County  |HomeWin         |\n",
            "|2002           |Fulham        |2        |0        |Sunderland    |HomeWin         |\n",
            "|2002           |Blackburn     |2        |2        |Manchester Utd|Draw            |\n",
            "|2002           |Ipswich Town  |0        |1        |Charlton Ath  |AwayWin         |\n",
            "|2002           |Blackburn     |2        |1        |Tottenham     |HomeWin         |\n",
            "|2002           |West Ham      |0        |0        |Leeds United  |Draw            |\n",
            "|2002           |Fulham        |0        |0        |Derby County  |Draw            |\n",
            "+---------------+--------------+---------+---------+--------------+----------------+\n",
            "only showing top 20 rows\n",
            "\n"
          ]
        }
      ]
    },
    {
      "cell_type": "markdown",
      "source": [
        "## Add number of points per season and average home/away goals scored for our feature set"
      ],
      "metadata": {
        "id": "vYJF6ZUag2FZ"
      }
    },
    {
      "cell_type": "code",
      "source": [
        "from pyspark.sql import functions as F\n",
        "from pyspark.sql import Window\n",
        "\n",
        "df_with_points = new_df.withColumn(\"Home Points\", when(col(\"Full Time Result\") == \"HomeWin\", 3).when(col(\"Full Time Result\") == \"AwayWin\", 0).when(col(\"Full Time Result\") == \"Draw\", 1))\n",
        "df_with_points = df_with_points.withColumn(\"Away Points\", when(col(\"Full Time Result\") == \"HomeWin\", 0).when(col(\"Full Time Result\") == \"AwayWin\", 3).when(col(\"Full Time Result\") == \"Draw\", 1))\n",
        "\n",
        "df_with_points.show()"
      ],
      "metadata": {
        "colab": {
          "base_uri": "https://localhost:8080/"
        },
        "id": "wj74B5tmhsVp",
        "outputId": "53cd673d-d5b4-41bf-c8c5-2aa7675dfad4"
      },
      "execution_count": 12,
      "outputs": [
        {
          "output_type": "stream",
          "name": "stdout",
          "text": [
            "+---------------+--------------+---------+---------+--------------+----------------+-----------+-----------+\n",
            "|Season_End_Year|          Home|HomeGoals|AwayGoals|          Away|Full Time Result|Home Points|Away Points|\n",
            "+---------------+--------------+---------+---------+--------------+----------------+-----------+-----------+\n",
            "|           2002| Middlesbrough|        0|        4|       Arsenal|         AwayWin|          0|          3|\n",
            "|           2002|     Liverpool|        2|        1|      West Ham|         HomeWin|          3|          0|\n",
            "|           2002|  Charlton Ath|        1|        2|       Everton|         AwayWin|          0|          3|\n",
            "|           2002|Leicester City|        0|        5|        Bolton|         AwayWin|          0|          3|\n",
            "|           2002|  Leeds United|        2|        0|   Southampton|         HomeWin|          3|          0|\n",
            "|           2002|    Sunderland|        1|        0|  Ipswich Town|         HomeWin|          3|          0|\n",
            "|           2002|  Derby County|        2|        1|     Blackburn|         HomeWin|          3|          0|\n",
            "|           2002|     Tottenham|        0|        0|   Aston Villa|            Draw|          1|          1|\n",
            "|           2002|Manchester Utd|        3|        2|        Fulham|         HomeWin|          3|          0|\n",
            "|           2002|       Chelsea|        1|        1| Newcastle Utd|            Draw|          1|          1|\n",
            "|           2002|       Everton|        1|        1|     Tottenham|            Draw|          1|          1|\n",
            "|           2002|        Bolton|        1|        0| Middlesbrough|         HomeWin|          3|          0|\n",
            "|           2002|       Arsenal|        1|        2|  Leeds United|         AwayWin|          0|          3|\n",
            "|           2002|  Ipswich Town|        3|        1|  Derby County|         HomeWin|          3|          0|\n",
            "|           2002|        Fulham|        2|        0|    Sunderland|         HomeWin|          3|          0|\n",
            "|           2002|     Blackburn|        2|        2|Manchester Utd|            Draw|          1|          1|\n",
            "|           2002|  Ipswich Town|        0|        1|  Charlton Ath|         AwayWin|          0|          3|\n",
            "|           2002|     Blackburn|        2|        1|     Tottenham|         HomeWin|          3|          0|\n",
            "|           2002|      West Ham|        0|        0|  Leeds United|            Draw|          1|          1|\n",
            "|           2002|        Fulham|        0|        0|  Derby County|            Draw|          1|          1|\n",
            "+---------------+--------------+---------+---------+--------------+----------------+-----------+-----------+\n",
            "only showing top 20 rows\n",
            "\n"
          ]
        }
      ]
    },
    {
      "cell_type": "markdown",
      "source": [
        "## Get second kaggle dataset with team rankings each season to join that data"
      ],
      "metadata": {
        "id": "Qc2TYrNKxoB-"
      }
    },
    {
      "cell_type": "code",
      "source": [
        "od.download(\n",
        "    \"https://www.kaggle.com/datasets/quadeer15sh/premier-league-standings-11-seasons-20102021\")\n",
        "location = './premier-league-standings-11-seasons-20102021/EPL Standings 2000-2022.csv'\n",
        "second_df = spark.read.format('csv').option('header', 'true').option('inferSchema', 'true').load(location)\n",
        "second_df.show(truncate=False)\n",
        "second_df.printSchema"
      ],
      "metadata": {
        "colab": {
          "base_uri": "https://localhost:8080/"
        },
        "id": "J0f4gMIjxS9j",
        "outputId": "5ccefefa-6f22-41d3-957c-fe3b0451339b"
      },
      "execution_count": 13,
      "outputs": [
        {
          "output_type": "stream",
          "name": "stdout",
          "text": [
            "Please provide your Kaggle credentials to download this dataset. Learn more: http://bit.ly/kaggle-creds\n",
            "Your Kaggle username: caitlindunne\n",
            "Your Kaggle Key: ··········\n",
            "Downloading premier-league-standings-11-seasons-20102021.zip to ./premier-league-standings-11-seasons-20102021\n"
          ]
        },
        {
          "output_type": "stream",
          "name": "stderr",
          "text": [
            "100%|██████████| 6.98k/6.98k [00:00<00:00, 4.79MB/s]"
          ]
        },
        {
          "output_type": "stream",
          "name": "stdout",
          "text": [
            "\n"
          ]
        },
        {
          "output_type": "stream",
          "name": "stderr",
          "text": [
            "\n"
          ]
        },
        {
          "output_type": "stream",
          "name": "stdout",
          "text": [
            "+-------+---+-----------------+---+---+---+---+---+---+---+---+----------------------------------------------------------------+\n",
            "|Season |Pos|Team             |Pld|W  |D  |L  |GF |GA |GD |Pts|Qualification or relegation                                     |\n",
            "+-------+---+-----------------+---+---+---+---+---+---+---+---+----------------------------------------------------------------+\n",
            "|2000-01|1  |Manchester United|38 |24 |8  |6  |79 |31 |48 |80 |Qualification for the Champions League first group stage        |\n",
            "|2000-01|2  |Arsenal          |38 |20 |10 |8  |63 |38 |25 |70 |Qualification for the Champions League first group stage        |\n",
            "|2000-01|3  |Liverpool        |38 |20 |9  |9  |71 |39 |32 |69 |Qualification for the Champions League third qualifying round[a]|\n",
            "|2000-01|4  |Leeds United     |38 |20 |8  |10 |64 |43 |21 |68 |Qualification for the UEFA Cup first round[a]                   |\n",
            "|2000-01|5  |Ipswich Town     |38 |20 |6  |12 |57 |42 |15 |66 |Qualification for the UEFA Cup first round[a]                   |\n",
            "|2000-01|6  |Chelsea          |38 |17 |10 |11 |68 |45 |23 |61 |Qualification for the UEFA Cup first round[a]                   |\n",
            "|2000-01|7  |Sunderland       |38 |15 |12 |11 |46 |41 |5  |57 |Not Applicable                                                  |\n",
            "|2000-01|8  |Aston Villa      |38 |13 |15 |10 |46 |43 |3  |54 |Qualification for the Intertoto Cup third round                 |\n",
            "|2000-01|9  |Charlton Athletic|38 |14 |10 |14 |50 |57 |-7 |52 |Not Applicable                                                  |\n",
            "|2000-01|10 |Southampton      |38 |14 |10 |14 |40 |48 |-8 |52 |Not Applicable                                                  |\n",
            "|2000-01|11 |Newcastle United |38 |14 |9  |15 |44 |50 |-6 |51 |Qualification for the Intertoto Cup third round                 |\n",
            "|2000-01|12 |Tottenham Hotspur|38 |13 |10 |15 |47 |54 |-7 |49 |Not Applicable                                                  |\n",
            "|2000-01|13 |Leicester City   |38 |14 |6  |18 |39 |51 |-12|48 |Not Applicable                                                  |\n",
            "|2000-01|14 |Middlesbrough    |38 |9  |15 |14 |44 |44 |0  |42 |Not Applicable                                                  |\n",
            "|2000-01|15 |West Ham United  |38 |10 |12 |16 |45 |50 |-5 |42 |Not Applicable                                                  |\n",
            "|2000-01|16 |Everton          |38 |11 |9  |18 |45 |59 |-14|42 |Not Applicable                                                  |\n",
            "|2000-01|17 |Derby County     |38 |10 |12 |16 |37 |59 |-22|42 |Not Applicable                                                  |\n",
            "|2000-01|18 |Manchester City  |38 |8  |10 |20 |41 |65 |-24|34 |Relegation to the Football League First Division                |\n",
            "|2000-01|19 |Coventry City    |38 |8  |10 |20 |36 |63 |-27|34 |Relegation to the Football League First Division                |\n",
            "|2000-01|20 |Bradford City    |38 |5  |11 |22 |30 |70 |-40|26 |Relegation to the Football League First Division                |\n",
            "+-------+---+-----------------+---+---+---+---+---+---+---+---+----------------------------------------------------------------+\n",
            "only showing top 20 rows\n",
            "\n"
          ]
        },
        {
          "output_type": "execute_result",
          "data": {
            "text/plain": [
              "<bound method DataFrame.printSchema of DataFrame[Season: string, Pos: int, Team: string, Pld: int, W: int, D: int, L: int, GF: int, GA: int, GD: int, Pts: int, Qualification or relegation: string]>"
            ]
          },
          "metadata": {},
          "execution_count": 13
        }
      ]
    },
    {
      "cell_type": "code",
      "source": [
        "from pyspark.sql.functions import expr\n",
        "from pyspark.sql.functions import concat, lit\n",
        "\n",
        "second_df = second_df.withColumn(\"Season\", expr(\"SUBSTR(Season, 6)\"))\n",
        "second_df = second_df.withColumn(\"Season\", concat(lit(\"20\"), second_df[\"Season\"]).cast(\"int\"))\n",
        "second_df = second_df.select([\"Pos\", \"Team\", \"Season\", \"W\"])\n",
        "second_df.show(40)"
      ],
      "metadata": {
        "colab": {
          "base_uri": "https://localhost:8080/"
        },
        "id": "fRoHbgpIydnJ",
        "outputId": "6491e895-af30-4c80-e392-09bda51e8929"
      },
      "execution_count": 14,
      "outputs": [
        {
          "output_type": "stream",
          "name": "stdout",
          "text": [
            "+---+-----------------+------+---+\n",
            "|Pos|             Team|Season|  W|\n",
            "+---+-----------------+------+---+\n",
            "|  1|Manchester United|  2001| 24|\n",
            "|  2|          Arsenal|  2001| 20|\n",
            "|  3|        Liverpool|  2001| 20|\n",
            "|  4|     Leeds United|  2001| 20|\n",
            "|  5|     Ipswich Town|  2001| 20|\n",
            "|  6|          Chelsea|  2001| 17|\n",
            "|  7|       Sunderland|  2001| 15|\n",
            "|  8|      Aston Villa|  2001| 13|\n",
            "|  9|Charlton Athletic|  2001| 14|\n",
            "| 10|      Southampton|  2001| 14|\n",
            "| 11| Newcastle United|  2001| 14|\n",
            "| 12|Tottenham Hotspur|  2001| 13|\n",
            "| 13|   Leicester City|  2001| 14|\n",
            "| 14|    Middlesbrough|  2001|  9|\n",
            "| 15|  West Ham United|  2001| 10|\n",
            "| 16|          Everton|  2001| 11|\n",
            "| 17|     Derby County|  2001| 10|\n",
            "| 18|  Manchester City|  2001|  8|\n",
            "| 19|    Coventry City|  2001|  8|\n",
            "| 20|    Bradford City|  2001|  5|\n",
            "|  1|          Arsenal|  2002| 26|\n",
            "|  2|        Liverpool|  2002| 24|\n",
            "|  3|Manchester United|  2002| 24|\n",
            "|  4| Newcastle United|  2002| 21|\n",
            "|  5|     Leeds United|  2002| 18|\n",
            "|  6|          Chelsea|  2002| 17|\n",
            "|  7|  West Ham United|  2002| 15|\n",
            "|  8|      Aston Villa|  2002| 12|\n",
            "|  9|Tottenham Hotspur|  2002| 14|\n",
            "| 10| Blackburn Rovers|  2002| 12|\n",
            "| 11|      Southampton|  2002| 12|\n",
            "| 12|    Middlesbrough|  2002| 12|\n",
            "| 13|           Fulham|  2002| 10|\n",
            "| 14|Charlton Athletic|  2002| 10|\n",
            "| 15|          Everton|  2002| 11|\n",
            "| 16| Bolton Wanderers|  2002|  9|\n",
            "| 17|       Sunderland|  2002| 10|\n",
            "| 18|     Ipswich Town|  2002|  9|\n",
            "| 19|     Derby County|  2002|  8|\n",
            "| 20|   Leicester City|  2002|  5|\n",
            "+---+-----------------+------+---+\n",
            "only showing top 40 rows\n",
            "\n"
          ]
        }
      ]
    },
    {
      "cell_type": "markdown",
      "source": [
        "**HomePos and AwayPos are the previous season positions of the home and away teams respectively**"
      ],
      "metadata": {
        "id": "5bvewdMUGGiY"
      }
    },
    {
      "cell_type": "code",
      "source": [
        "home_join_conditions = (new_df[\"Season_End_Year\"] == (second_df[\"Season\"]-1)) & (new_df[\"Home\"] == second_df[\"Team\"])\n",
        "away_join_conditions = (new_df[\"Season_End_Year\"] == (second_df[\"Season\"]-1)) & (new_df[\"Away\"] == second_df[\"Team\"])\n",
        "final_df = new_df.join(second_df, home_join_conditions,\"inner\")\n",
        "final_df = final_df.withColumnRenamed(\"Pos\", \"HomePos\")\n",
        "final_df = final_df.withColumnRenamed(\"W\", \"HomeW\")\n",
        "final_df = final_df.drop(\"Team\", \"Season\")\n",
        "final_df = final_df.join(second_df, away_join_conditions, how=\"inner\")\n",
        "final_df = final_df.withColumnRenamed(\"Pos\", \"AwayPos\")\n",
        "final_df = final_df.withColumnRenamed(\"W\", \"AwayW\")\n",
        "final_df = final_df.drop(\"Team\", \"Season\")\n",
        "final_df.show(5)"
      ],
      "metadata": {
        "colab": {
          "base_uri": "https://localhost:8080/"
        },
        "id": "Zx0onDN05DtR",
        "outputId": "e0603cd3-0888-4208-d377-3e42ef44e4a7"
      },
      "execution_count": 15,
      "outputs": [
        {
          "output_type": "stream",
          "name": "stdout",
          "text": [
            "+---------------+-------------+---------+---------+-------------+----------------+-------+-----+-------+-----+\n",
            "|Season_End_Year|         Home|HomeGoals|AwayGoals|         Away|Full Time Result|HomePos|HomeW|AwayPos|AwayW|\n",
            "+---------------+-------------+---------+---------+-------------+----------------+-------+-----+-------+-----+\n",
            "|           2002|Middlesbrough|        0|        4|      Arsenal|         AwayWin|     11|   13|      2|   23|\n",
            "|           2002| Leeds United|        2|        0|  Southampton|         HomeWin|     15|   14|      8|   13|\n",
            "|           2002|      Arsenal|        1|        2| Leeds United|         AwayWin|      2|   23|     15|   14|\n",
            "|           2002|       Fulham|        2|        0|   Sunderland|         HomeWin|     14|   13|     20|    4|\n",
            "|           2002|      Everton|        2|        0|Middlesbrough|         HomeWin|      7|   17|     11|   13|\n",
            "+---------------+-------------+---------+---------+-------------+----------------+-------+-----+-------+-----+\n",
            "only showing top 5 rows\n",
            "\n"
          ]
        }
      ]
    },
    {
      "cell_type": "markdown",
      "source": [
        "**Checking again for NA since we've now joined and filtered dataframes**"
      ],
      "metadata": {
        "id": "vsJPnkf_BcLq"
      }
    },
    {
      "cell_type": "code",
      "source": [
        "print(final_df.count())\n",
        "final_df = final_df.dropna()\n",
        "print(final_df.count())"
      ],
      "metadata": {
        "colab": {
          "base_uri": "https://localhost:8080/"
        },
        "id": "TdGqoQkdBTjN",
        "outputId": "df612e41-4d03-424b-8c10-a94fb9af11fb"
      },
      "execution_count": 16,
      "outputs": [
        {
          "output_type": "stream",
          "name": "stdout",
          "text": [
            "2302\n",
            "2302\n"
          ]
        }
      ]
    },
    {
      "cell_type": "markdown",
      "source": [
        "## Create Model and test Accuracy"
      ],
      "metadata": {
        "id": "qjvbQ_e8hE2X"
      }
    },
    {
      "cell_type": "markdown",
      "source": [
        "**The features we're using here are final position of the teams in the previous season, and number of games won by both home and away teams the previous season**"
      ],
      "metadata": {
        "id": "KIp3XXolKwQs"
      }
    },
    {
      "cell_type": "code",
      "source": [
        "from pyspark.ml.feature import VectorAssembler\n",
        "from pyspark.ml.classification import LogisticRegression\n",
        "from pyspark.mllib.evaluation import MulticlassMetrics\n",
        "from pyspark.ml.feature import StringIndexer\n",
        "\n",
        "indexer = StringIndexer(inputCol=\"Full Time Result\", outputCol=\"FTR_Index\")\n",
        "indexed_df = indexer.fit(final_df).transform(final_df)\n",
        "\n",
        "feature_cols = [\"HomePos\", \"AwayPos\", \"HomeW\", \"AwayW\"]\n",
        "assembler = VectorAssembler(inputCols=feature_cols, outputCol=\"features\")\n",
        "data = assembler.transform(indexed_df)\n",
        "\n",
        "# Select the features and the target variable ('Full Time Result')\n",
        "data = data.select(\"features\", \"FTR_Index\")\n",
        "data.show()\n",
        "# Split the data into training and testing sets\n",
        "train_data, test_data = data.randomSplit([0.8, 0.2])\n",
        "\n",
        "lr = LogisticRegression(featuresCol=\"features\", labelCol=\"FTR_Index\")\n",
        "\n",
        "# Fit the model to the training data\n",
        "lr_model = lr.fit(train_data)\n",
        "\n",
        "# Make predictions on the testing data\n",
        "predictions = lr_model.transform(test_data)\n",
        "prediction_rdd = predictions.select(\"prediction\", \"FTR_Index\").rdd.map(tuple)\n",
        "\n",
        "metrics = MulticlassMetrics(prediction_rdd)\n",
        "print(\"Test model accuracy: \", metrics.accuracy)\n"
      ],
      "metadata": {
        "colab": {
          "base_uri": "https://localhost:8080/"
        },
        "id": "RGjsJIXX43uP",
        "outputId": "3c911b94-4f64-420d-8c8f-c11647d5a6cc"
      },
      "execution_count": 17,
      "outputs": [
        {
          "output_type": "stream",
          "name": "stdout",
          "text": [
            "+--------------------+---------+\n",
            "|            features|FTR_Index|\n",
            "+--------------------+---------+\n",
            "|[11.0,2.0,13.0,23.0]|      1.0|\n",
            "|[15.0,8.0,14.0,13.0]|      0.0|\n",
            "|[2.0,15.0,23.0,14.0]|      1.0|\n",
            "|[14.0,20.0,13.0,4.0]|      0.0|\n",
            "|[7.0,11.0,17.0,13.0]|      0.0|\n",
            "| [8.0,4.0,13.0,19.0]|      1.0|\n",
            "|[5.0,16.0,18.0,12.0]|      1.0|\n",
            "| [4.0,2.0,19.0,23.0]|      2.0|\n",
            "|[14.0,2.0,13.0,23.0]|      1.0|\n",
            "| [7.0,5.0,17.0,18.0]|      1.0|\n",
            "|[16.0,20.0,12.0,4.0]|      2.0|\n",
            "|[4.0,11.0,19.0,13.0]|      2.0|\n",
            "|[8.0,16.0,13.0,12.0]|      1.0|\n",
            "|[11.0,8.0,13.0,13.0]|      1.0|\n",
            "|[14.0,4.0,13.0,19.0]|      2.0|\n",
            "| [8.0,2.0,13.0,23.0]|      1.0|\n",
            "|[5.0,15.0,18.0,14.0]|      2.0|\n",
            "|[16.0,14.0,12.0,1...|      0.0|\n",
            "|[7.0,16.0,17.0,12.0]|      0.0|\n",
            "|[15.0,4.0,14.0,19.0]|      2.0|\n",
            "+--------------------+---------+\n",
            "only showing top 20 rows\n",
            "\n",
            "Test model accuracy:  0.504524886877828\n"
          ]
        }
      ]
    },
    {
      "cell_type": "markdown",
      "source": [
        "# Section 4: Show your analysis of the data\n",
        "\n",
        "10 points\n",
        "\n",
        "This is where the science happens. Use your data to show some kind of insight, and how you got there. Make the reader understand why it's important, and how they can get the same conslusion, and/or what would need to change to reach a different one.\n",
        "\n",
        "### This section should include one or more of the following:\n",
        "- Fit the data to a model\n",
        "- Show the outcome of clustering, regression, and/or classification algorithms.\n",
        " - We used several in class, but you can use whatever fits your needs for this assignment\n",
        "- Reccomend a product/item\n",
        "- Use a SQL query to filter results\n"
      ],
      "metadata": {
        "id": "nV7baCwkIDc7"
      }
    },
    {
      "cell_type": "markdown",
      "source": [
        "## Creating dataset for upcoming matches"
      ],
      "metadata": {
        "id": "sJSKo3CVhKS0"
      }
    },
    {
      "cell_type": "code",
      "source": [
        "liverpool_at_wolverhampton = {\"HomePos\":13, \"AwayPos\":5, \"HomeW\":11, \"AwayW\":19} #wolverhampton 2022 standing, liverpool 2022 standing, wolverhampton games won 2022, liverpool games won 2022\n",
        "crystal_palace_at_aston_villa = {\"HomePos\":7, \"AwayPos\":11, \"HomeW\":18, \"AwayW\":11}\n",
        "luton_town_at_fulham = {\"HomePos\":10, \"AwayPos\":21, \"HomeW\":15, \"AwayW\":0} #Luton Town wasn't in the premier league last season so I'm saying they placed 21st out of 20 teams\n",
        "man_city_at_west_ham = {\"HomePos\":14, \"AwayPos\":1, \"HomeW\":11, \"AwayW\":28}\n",
        "brighton_at_man_united = {\"HomePos\":3, \"AwayPos\":6, \"HomeW\":23, \"AwayW\": 18}\n",
        "arsenal_at_everton = {\"HomePos\":17, \"AwayPos\":2, \"HomeW\":8, \"AwayW\":26}\n",
        "\n",
        "upcoming_df = spark.createDataFrame([liverpool_at_wolverhampton, crystal_palace_at_aston_villa, luton_town_at_fulham, man_city_at_west_ham, brighton_at_man_united, arsenal_at_everton])\n",
        "upcoming_df.show()\n",
        "feature_cols = [\"HomePos\", \"AwayPos\", \"HomeW\", \"AwayW\"]\n",
        "assembler = VectorAssembler(inputCols=feature_cols, outputCol=\"features\")\n",
        "data = assembler.transform(upcoming_df)\n",
        "data = data.select(\"features\")"
      ],
      "metadata": {
        "colab": {
          "base_uri": "https://localhost:8080/"
        },
        "id": "q4ES8It0LFGY",
        "outputId": "912b5da5-34e2-4d09-cb9f-60c51466f884"
      },
      "execution_count": 18,
      "outputs": [
        {
          "output_type": "stream",
          "name": "stderr",
          "text": [
            "/content/spark-3.0.1-bin-hadoop2.7/python/pyspark/sql/session.py:381: UserWarning: inferring schema from dict is deprecated,please use pyspark.sql.Row instead\n",
            "  warnings.warn(\"inferring schema from dict is deprecated,\"\n"
          ]
        },
        {
          "output_type": "stream",
          "name": "stdout",
          "text": [
            "+-------+-----+-------+-----+\n",
            "|AwayPos|AwayW|HomePos|HomeW|\n",
            "+-------+-----+-------+-----+\n",
            "|      5|   19|     13|   11|\n",
            "|     11|   11|      7|   18|\n",
            "|     21|    0|     10|   15|\n",
            "|      1|   28|     14|   11|\n",
            "|      6|   18|      3|   23|\n",
            "|      2|   26|     17|    8|\n",
            "+-------+-----+-------+-----+\n",
            "\n"
          ]
        }
      ]
    },
    {
      "cell_type": "markdown",
      "source": [
        "## Running prediction on upcoming fixtures"
      ],
      "metadata": {
        "id": "M0EBwDLQhQtP"
      }
    },
    {
      "cell_type": "code",
      "source": [
        "predictions = lr_model.transform(data)\n",
        "upcoming_prediction_rdd = predictions.select(\"prediction\").rdd.map(tuple)\n",
        "print(upcoming_prediction_rdd.take(6))"
      ],
      "metadata": {
        "colab": {
          "base_uri": "https://localhost:8080/"
        },
        "id": "crC9onmQRB6W",
        "outputId": "100d0256-1d73-49b4-97a9-95f18354aae6"
      },
      "execution_count": 19,
      "outputs": [
        {
          "output_type": "stream",
          "name": "stdout",
          "text": [
            "[(1.0,), (0.0,), (0.0,), (1.0,), (0.0,), (1.0,)]\n"
          ]
        }
      ]
    },
    {
      "cell_type": "markdown",
      "source": [
        "**According to my model Liverpool, Aston Villa, Fulham, Man City, Man United and Everton will win their games.**"
      ],
      "metadata": {
        "id": "MqYpLahaRGG_"
      }
    },
    {
      "cell_type": "markdown",
      "source": [
        "## Trying another model just for fun"
      ],
      "metadata": {
        "id": "HcFyR6GMRf7b"
      }
    },
    {
      "cell_type": "code",
      "source": [
        "from pyspark.ml.classification import RandomForestClassifier\n",
        "\n",
        "data = assembler.transform(indexed_df)\n",
        "\n",
        "# Select the features and the target variable ('Full Time Result')\n",
        "data = data.select(\"features\", \"FTR_Index\")\n",
        "data.show()\n",
        "# Split the data into training and testing sets\n",
        "train_data, test_data = data.randomSplit([0.8, 0.2])\n",
        "\n",
        "rf = RandomForestClassifier(featuresCol='features', labelCol='FTR_Index')\n",
        "rfModel = rf.fit(train_data)\n",
        "\n",
        "# Make predictions on the testing data\n",
        "predictions = rfModel.transform(test_data)\n",
        "prediction_rdd = predictions.select(\"prediction\", \"FTR_Index\").rdd.map(tuple)\n",
        "\n",
        "metrics = MulticlassMetrics(prediction_rdd)\n",
        "print(\"Test model accuracy: \", metrics.accuracy)"
      ],
      "metadata": {
        "colab": {
          "base_uri": "https://localhost:8080/"
        },
        "id": "rMg18QuBRlRF",
        "outputId": "3492e421-8038-41d8-b411-70cf197f467b"
      },
      "execution_count": 20,
      "outputs": [
        {
          "output_type": "stream",
          "name": "stdout",
          "text": [
            "+--------------------+---------+\n",
            "|            features|FTR_Index|\n",
            "+--------------------+---------+\n",
            "|[11.0,2.0,13.0,23.0]|      1.0|\n",
            "|[15.0,8.0,14.0,13.0]|      0.0|\n",
            "|[2.0,15.0,23.0,14.0]|      1.0|\n",
            "|[14.0,20.0,13.0,4.0]|      0.0|\n",
            "|[7.0,11.0,17.0,13.0]|      0.0|\n",
            "| [8.0,4.0,13.0,19.0]|      1.0|\n",
            "|[5.0,16.0,18.0,12.0]|      1.0|\n",
            "| [4.0,2.0,19.0,23.0]|      2.0|\n",
            "|[14.0,2.0,13.0,23.0]|      1.0|\n",
            "| [7.0,5.0,17.0,18.0]|      1.0|\n",
            "|[16.0,20.0,12.0,4.0]|      2.0|\n",
            "|[4.0,11.0,19.0,13.0]|      2.0|\n",
            "|[8.0,16.0,13.0,12.0]|      1.0|\n",
            "|[11.0,8.0,13.0,13.0]|      1.0|\n",
            "|[14.0,4.0,13.0,19.0]|      2.0|\n",
            "| [8.0,2.0,13.0,23.0]|      1.0|\n",
            "|[5.0,15.0,18.0,14.0]|      2.0|\n",
            "|[16.0,14.0,12.0,1...|      0.0|\n",
            "|[7.0,16.0,17.0,12.0]|      0.0|\n",
            "|[15.0,4.0,14.0,19.0]|      2.0|\n",
            "+--------------------+---------+\n",
            "only showing top 20 rows\n",
            "\n",
            "Test model accuracy:  0.4956521739130435\n"
          ]
        }
      ]
    },
    {
      "cell_type": "markdown",
      "source": [
        "**This model is ~1% more accurate, so I don't think it's worth re-running the upcoming matches thru.**"
      ],
      "metadata": {
        "id": "0ZB5NFs_SfPg"
      }
    },
    {
      "cell_type": "markdown",
      "source": [
        "## Future Improvements"
      ],
      "metadata": {
        "id": "WBkEnraXVnuB"
      }
    },
    {
      "cell_type": "markdown",
      "source": [
        "**Since the model is only ~50% accurate there's clearly room for improvement.  We also weren't able to showcase home field advantage which we saw was an important feature.  This could be accomplished by computing previous season home wins vs total wins.  Also we know there are lots of factors that contribute to Premier League success like $ spent on transfers, individual player performance, managerial stats, winnig streak, etc. So the best models will take these factors into account with a much more comprehensive dataset.**"
      ],
      "metadata": {
        "id": "YtGcLQKMVruL"
      }
    }
  ]
}